{
  "cells": [
    {
      "cell_type": "markdown",
      "metadata": {
        "id": "uPlI7d1zAdEq"
      },
      "source": [
        "# Mercadona API Data Extraction"
      ]
    },
    {
      "cell_type": "markdown",
      "metadata": {},
      "source": [
        "### About the project\n",
        "##### *This project aims to conduct a comprehensive analysis and comparison of supermarket prices.*\n",
        " Primary focus of this notebook is on extracting data from Mercadona's API server. The data extraction process begins with querying general endpoint categories, followed by iterative exploration through category-specific endpoints to obtain detailed information about various products. The notebook documents this systematic approach, providing insights into the diverse range of products and their corresponding pricing within Mercadona's inventory. The ultimate goal is to derive valuable comparisons and trends in supermarket pricing, contributing to a deeper understanding of market dynamics."
      ]
    },
    {
      "cell_type": "code",
      "execution_count": 36,
      "metadata": {
        "id": "RJiGsoDLAdEq"
      },
      "outputs": [],
      "source": [
        "import pandas as pd\n",
        "import requests \n",
        "import json "
      ]
    },
    {
      "cell_type": "code",
      "execution_count": 37,
      "metadata": {
        "id": "qg7YoT6rAdEz"
      },
      "outputs": [],
      "source": [
        "url = \"https://tienda.mercadona.es/api/categories/\"\n",
        "data = requests.get(url)\n",
        "data = data.json()"
      ]
    },
    {
      "cell_type": "code",
      "execution_count": 38,
      "metadata": {},
      "outputs": [],
      "source": [
        "data_res = data[\"results\"]\n",
        "\n",
        "dc_mercadona={\"cat1\":[], \"cat2\" : [], \"id\" : []}\n",
        "for d_cat1 in data_res:\n",
        "      for d_cat2 in d_cat1[\"categories\"]:\n",
        "        cat2 = d_cat2[\"name\"]\n",
        "        id = d_cat2[\"id\"]\n",
        "        cat1 = d_cat1[\"name\"]\n",
        "\n",
        "        dc_mercadona[\"cat1\"].append(cat1)\n",
        "        dc_mercadona[\"cat2\"].append(cat2)\n",
        "        dc_mercadona[\"id\"].append(id)\n"
      ]
    },
    {
      "cell_type": "code",
      "execution_count": 39,
      "metadata": {},
      "outputs": [],
      "source": [
        "df_cat = pd.DataFrame(dc_mercadona)\n",
        "df_cat.to_csv(\"../data/dynamic/mercadona/categories.csv\", index=False)\n"
      ]
    },
    {
      "cell_type": "code",
      "execution_count": 40,
      "metadata": {},
      "outputs": [
        {
          "name": "stdout",
          "output_type": "stream",
          "text": [
            "dict_keys(['id', 'name', 'order', 'layout', 'published', 'categories', 'is_extended'])\n"
          ]
        }
      ],
      "source": [
        "url2= \"https://tienda.mercadona.es/api/categories/112\"\n",
        "data_endpoint = requests.get(url2)\n",
        "data_endpoint = data_endpoint.json()\n",
        "print(data_endpoint.keys())\n"
      ]
    },
    {
      "cell_type": "code",
      "execution_count": 41,
      "metadata": {},
      "outputs": [],
      "source": [
        "def get_product_by_id(id):\n",
        "    url2= f\"https://tienda.mercadona.es/api/categories/{id}\"\n",
        "    data_endpoint = requests.get(url2)\n",
        "    data_endpoint = data_endpoint.json()\n",
        "\n",
        "    data_endpoint_cat = data_endpoint[\"categories\"]\n",
        "\n",
        "    dc_mercadona_2 = {\"id\": [], \"name\": [], \"packaging\": [], \"unit_price\": [], \"iva\": [], \"unit_size\": [], \"size_format\":[], \"price_decreased\": []}\n",
        "\n",
        "    for d_cat3 in data_endpoint_cat:\n",
        "        for d_cat4 in d_cat3[\"products\"]:        \n",
        "            dc_mercadona_2[\"packaging\"].append(d_cat4[\"packaging\"])\n",
        "            dc_mercadona_2[\"id\"].append(data_endpoint[\"id\"])\n",
        "            dc_mercadona_2[\"name\"].append(d_cat4[\"display_name\"]) \n",
        "            dc_mercadona_2[\"unit_price\"].append(d_cat4[\"price_instructions\"][\"unit_price\"])\n",
        "            dc_mercadona_2[\"iva\"].append(d_cat4[\"price_instructions\"][\"iva\"])\n",
        "            dc_mercadona_2[\"unit_size\"].append(d_cat4[\"price_instructions\"][\"unit_size\"])\n",
        "            dc_mercadona_2[\"size_format\"].append(d_cat4[\"price_instructions\"][\"size_format\"])\n",
        "            dc_mercadona_2[\"price_decreased\"].append(d_cat4[\"price_instructions\"][\"price_decreased\"])\n",
        "\n",
        "    return pd.DataFrame(dc_mercadona_2)\n"
      ]
    },
    {
      "cell_type": "code",
      "execution_count": 28,
      "metadata": {},
      "outputs": [
        {
          "name": "stderr",
          "output_type": "stream",
          "text": [
            "Processing Products:  61%|██████    | 92/152 [00:21<00:12,  4.72it/s]"
          ]
        },
        {
          "name": "stdout",
          "output_type": "stream",
          "text": [
            "Failed in id 213 with error: 'categories'\n"
          ]
        },
        {
          "name": "stderr",
          "output_type": "stream",
          "text": [
            "Processing Products:  62%|██████▏   | 94/152 [00:21<00:11,  5.14it/s]"
          ]
        },
        {
          "name": "stdout",
          "output_type": "stream",
          "text": [
            "Failed in id 214 with error: 'categories'\n",
            "Failed in id 27 with error: 'categories'\n"
          ]
        },
        {
          "name": "stderr",
          "output_type": "stream",
          "text": [
            "Processing Products:  63%|██████▎   | 96/152 [00:21<00:10,  5.30it/s]"
          ]
        },
        {
          "name": "stdout",
          "output_type": "stream",
          "text": [
            "Failed in id 28 with error: 'categories'\n",
            "Failed in id 29 with error: 'categories'\n"
          ]
        },
        {
          "name": "stderr",
          "output_type": "stream",
          "text": [
            "Processing Products:  64%|██████▍   | 97/152 [00:22<00:10,  5.24it/s]"
          ]
        },
        {
          "name": "stdout",
          "output_type": "stream",
          "text": [
            "Failed in id 77 with error: 'categories'\n"
          ]
        },
        {
          "name": "stderr",
          "output_type": "stream",
          "text": [
            "Processing Products:  66%|██████▌   | 100/152 [00:22<00:10,  4.81it/s]"
          ]
        },
        {
          "name": "stdout",
          "output_type": "stream",
          "text": [
            "Failed in id 75 with error: 'categories'\n"
          ]
        },
        {
          "name": "stderr",
          "output_type": "stream",
          "text": [
            "Processing Products:  69%|██████▉   | 105/152 [00:23<00:08,  5.63it/s]"
          ]
        },
        {
          "name": "stdout",
          "output_type": "stream",
          "text": [
            "Failed in id 235 with error: 'categories'\n",
            "Failed in id 233 with error: 'categories'\n"
          ]
        },
        {
          "name": "stderr",
          "output_type": "stream",
          "text": [
            "Processing Products:  71%|███████   | 108/152 [00:24<00:07,  5.60it/s]"
          ]
        },
        {
          "name": "stdout",
          "output_type": "stream",
          "text": [
            "Failed in id 230 with error: 'categories'\n"
          ]
        },
        {
          "name": "stderr",
          "output_type": "stream",
          "text": [
            "Processing Products:  73%|███████▎  | 111/152 [00:24<00:07,  5.36it/s]"
          ]
        },
        {
          "name": "stdout",
          "output_type": "stream",
          "text": [
            "Failed in id 238 with error: 'categories'\n"
          ]
        },
        {
          "name": "stderr",
          "output_type": "stream",
          "text": [
            "Processing Products:  74%|███████▍  | 113/152 [00:25<00:08,  4.51it/s]"
          ]
        },
        {
          "name": "stdout",
          "output_type": "stream",
          "text": [
            "Failed in id 239 with error: 'categories'\n"
          ]
        },
        {
          "name": "stderr",
          "output_type": "stream",
          "text": [
            "Processing Products:  76%|███████▌  | 115/152 [00:25<00:07,  4.71it/s]"
          ]
        },
        {
          "name": "stdout",
          "output_type": "stream",
          "text": [
            "Failed in id 206 with error: 'categories'\n",
            "Failed in id 207 with error: 'categories'\n"
          ]
        },
        {
          "name": "stderr",
          "output_type": "stream",
          "text": [
            "Processing Products:  78%|███████▊  | 118/152 [00:26<00:07,  4.74it/s]"
          ]
        },
        {
          "name": "stdout",
          "output_type": "stream",
          "text": [
            "Failed in id 210 with error: 'categories'\n",
            "Failed in id 212 with error: 'categories'\n"
          ]
        },
        {
          "name": "stderr",
          "output_type": "stream",
          "text": [
            "Processing Products:  81%|████████  | 123/152 [00:27<00:05,  5.27it/s]"
          ]
        },
        {
          "name": "stdout",
          "output_type": "stream",
          "text": [
            "Failed in id 36 with error: 'categories'\n",
            "Failed in id 789 with error: 'categories'\n"
          ]
        },
        {
          "name": "stderr",
          "output_type": "stream",
          "text": [
            "Processing Products:  82%|████████▏ | 125/152 [00:27<00:05,  4.92it/s]"
          ]
        },
        {
          "name": "stdout",
          "output_type": "stream",
          "text": [
            "Failed in id 222 with error: 'categories'\n",
            "Failed in id 221 with error: 'categories'\n"
          ]
        },
        {
          "name": "stderr",
          "output_type": "stream",
          "text": [
            "Processing Products:  84%|████████▎ | 127/152 [00:28<00:06,  4.02it/s]"
          ]
        },
        {
          "name": "stdout",
          "output_type": "stream",
          "text": [
            "Failed in id 225 with error: 'categories'\n"
          ]
        },
        {
          "name": "stderr",
          "output_type": "stream",
          "text": [
            "Processing Products:  86%|████████▌ | 130/152 [00:28<00:04,  4.66it/s]"
          ]
        },
        {
          "name": "stdout",
          "output_type": "stream",
          "text": [
            "Failed in id 69 with error: 'categories'\n",
            "Failed in id 59 with error: 'categories'\n"
          ]
        },
        {
          "name": "stderr",
          "output_type": "stream",
          "text": [
            "Processing Products:  87%|████████▋ | 132/152 [00:29<00:04,  4.88it/s]"
          ]
        },
        {
          "name": "stdout",
          "output_type": "stream",
          "text": [
            "Failed in id 60 with error: 'categories'\n",
            "Failed in id 62 with error: 'categories'\n"
          ]
        },
        {
          "name": "stderr",
          "output_type": "stream",
          "text": [
            "Processing Products:  88%|████████▊ | 133/152 [00:29<00:04,  4.67it/s]"
          ]
        },
        {
          "name": "stdout",
          "output_type": "stream",
          "text": [
            "Failed in id 64 with error: 'categories'\n"
          ]
        },
        {
          "name": "stderr",
          "output_type": "stream",
          "text": [
            "Processing Products:  89%|████████▉ | 135/152 [00:29<00:03,  4.81it/s]"
          ]
        },
        {
          "name": "stdout",
          "output_type": "stream",
          "text": [
            "Failed in id 68 with error: 'categories'\n"
          ]
        },
        {
          "name": "stderr",
          "output_type": "stream",
          "text": [
            "Processing Products:  89%|████████▉ | 136/152 [00:30<00:03,  4.62it/s]"
          ]
        },
        {
          "name": "stdout",
          "output_type": "stream",
          "text": [
            "Failed in id 897 with error: 'categories'\n"
          ]
        },
        {
          "name": "stderr",
          "output_type": "stream",
          "text": [
            "Processing Products:  90%|█████████ | 137/152 [00:30<00:03,  4.37it/s]"
          ]
        },
        {
          "name": "stdout",
          "output_type": "stream",
          "text": [
            "Failed in id 138 with error: 'categories'\n"
          ]
        },
        {
          "name": "stderr",
          "output_type": "stream",
          "text": [
            "Processing Products:  91%|█████████ | 138/152 [00:30<00:03,  4.35it/s]"
          ]
        },
        {
          "name": "stdout",
          "output_type": "stream",
          "text": [
            "Failed in id 140 with error: 'categories'\n"
          ]
        },
        {
          "name": "stderr",
          "output_type": "stream",
          "text": [
            "Processing Products:  91%|█████████▏| 139/152 [00:30<00:03,  4.18it/s]"
          ]
        },
        {
          "name": "stdout",
          "output_type": "stream",
          "text": [
            "Failed in id 142 with error: 'categories'\n"
          ]
        },
        {
          "name": "stderr",
          "output_type": "stream",
          "text": [
            "Processing Products:  92%|█████████▏| 140/152 [00:31<00:02,  4.16it/s]"
          ]
        },
        {
          "name": "stdout",
          "output_type": "stream",
          "text": [
            "Failed in id 105 with error: 'categories'\n"
          ]
        },
        {
          "name": "stderr",
          "output_type": "stream",
          "text": [
            "Processing Products:  93%|█████████▎| 141/152 [00:31<00:02,  4.00it/s]"
          ]
        },
        {
          "name": "stdout",
          "output_type": "stream",
          "text": [
            "Failed in id 110 with error: 'categories'\n"
          ]
        },
        {
          "name": "stderr",
          "output_type": "stream",
          "text": [
            "Processing Products:  93%|█████████▎| 142/152 [00:31<00:02,  3.84it/s]"
          ]
        },
        {
          "name": "stdout",
          "output_type": "stream",
          "text": [
            "Failed in id 111 with error: 'categories'\n"
          ]
        },
        {
          "name": "stderr",
          "output_type": "stream",
          "text": [
            "Processing Products:  95%|█████████▍| 144/152 [00:32<00:02,  3.89it/s]"
          ]
        },
        {
          "name": "stdout",
          "output_type": "stream",
          "text": [
            "Failed in id 103 with error: 'categories'\n"
          ]
        },
        {
          "name": "stderr",
          "output_type": "stream",
          "text": [
            "Processing Products:  95%|█████████▌| 145/152 [00:32<00:01,  4.01it/s]"
          ]
        },
        {
          "name": "stdout",
          "output_type": "stream",
          "text": [
            "Failed in id 109 with error: 'categories'\n"
          ]
        },
        {
          "name": "stderr",
          "output_type": "stream",
          "text": [
            "Processing Products:  96%|█████████▌| 146/152 [00:32<00:01,  4.14it/s]"
          ]
        },
        {
          "name": "stdout",
          "output_type": "stream",
          "text": [
            "Failed in id 108 with error: 'categories'\n"
          ]
        },
        {
          "name": "stderr",
          "output_type": "stream",
          "text": [
            "Processing Products:  97%|█████████▋| 147/152 [00:32<00:01,  4.02it/s]"
          ]
        },
        {
          "name": "stdout",
          "output_type": "stream",
          "text": [
            "Failed in id 104 with error: 'categories'\n"
          ]
        },
        {
          "name": "stderr",
          "output_type": "stream",
          "text": [
            "Processing Products:  97%|█████████▋| 148/152 [00:33<00:00,  4.22it/s]"
          ]
        },
        {
          "name": "stdout",
          "output_type": "stream",
          "text": [
            "Failed in id 107 with error: 'categories'\n"
          ]
        },
        {
          "name": "stderr",
          "output_type": "stream",
          "text": [
            "Processing Products:  99%|█████████▊| 150/152 [00:33<00:00,  4.30it/s]"
          ]
        },
        {
          "name": "stdout",
          "output_type": "stream",
          "text": [
            "Failed in id 100 with error: 'categories'\n"
          ]
        },
        {
          "name": "stderr",
          "output_type": "stream",
          "text": [
            "Processing Products: 100%|██████████| 152/152 [00:34<00:00,  4.46it/s]"
          ]
        },
        {
          "name": "stdout",
          "output_type": "stream",
          "text": [
            "Failed in id 98 with error: 'categories'\n"
          ]
        },
        {
          "name": "stderr",
          "output_type": "stream",
          "text": [
            "\n"
          ]
        }
      ],
      "source": [
        "from tqdm import tqdm\n",
        "\n",
        "df_mercadona_segunda = []\n",
        "\n",
        "# Use tqdm to create a progress bar for the loop\n",
        "for i in tqdm(df[\"id\"].unique(), desc=\"Processing Products\"):\n",
        "   try:\n",
        "      df_mercadona_segunda.append(get_product_by_id(i))\n",
        "   except Exception as e:\n",
        "      print(f'Failed in id {i} with error: {e}')\n",
        "      continue\n",
        "\n"
      ]
    },
    {
      "cell_type": "code",
      "execution_count": 29,
      "metadata": {},
      "outputs": [],
      "source": [
        "df_md_prod = pd.concat(df_mercadona_segunda, ignore_index=True)"
      ]
    },
    {
      "cell_type": "code",
      "execution_count": 30,
      "metadata": {},
      "outputs": [
        {
          "data": {
            "text/plain": [
              "111"
            ]
          },
          "execution_count": 30,
          "metadata": {},
          "output_type": "execute_result"
        }
      ],
      "source": [
        "df_md_prod[\"id\"].nunique()"
      ]
    },
    {
      "cell_type": "code",
      "execution_count": 31,
      "metadata": {},
      "outputs": [
        {
          "data": {
            "text/plain": [
              "152"
            ]
          },
          "execution_count": 31,
          "metadata": {},
          "output_type": "execute_result"
        }
      ],
      "source": [
        "df.id.nunique()"
      ]
    },
    {
      "cell_type": "code",
      "execution_count": 32,
      "metadata": {},
      "outputs": [
        {
          "data": {
            "text/plain": [
              "id                   0\n",
              "name                 0\n",
              "packaging          250\n",
              "unit_price           0\n",
              "iva                  0\n",
              "unit_size           88\n",
              "size_format          0\n",
              "price_decreased      0\n",
              "dtype: int64"
            ]
          },
          "execution_count": 32,
          "metadata": {},
          "output_type": "execute_result"
        }
      ],
      "source": [
        "df_md_prod.isnull().sum()"
      ]
    },
    {
      "cell_type": "code",
      "execution_count": 33,
      "metadata": {},
      "outputs": [
        {
          "data": {
            "text/html": [
              "<div>\n",
              "<style scoped>\n",
              "    .dataframe tbody tr th:only-of-type {\n",
              "        vertical-align: middle;\n",
              "    }\n",
              "\n",
              "    .dataframe tbody tr th {\n",
              "        vertical-align: top;\n",
              "    }\n",
              "\n",
              "    .dataframe thead th {\n",
              "        text-align: right;\n",
              "    }\n",
              "</style>\n",
              "<table border=\"1\" class=\"dataframe\">\n",
              "  <thead>\n",
              "    <tr style=\"text-align: right;\">\n",
              "      <th></th>\n",
              "      <th>id</th>\n",
              "      <th>name</th>\n",
              "      <th>packaging</th>\n",
              "      <th>unit_price</th>\n",
              "      <th>iva</th>\n",
              "      <th>unit_size</th>\n",
              "      <th>size_format</th>\n",
              "      <th>price_decreased</th>\n",
              "    </tr>\n",
              "  </thead>\n",
              "  <tbody>\n",
              "    <tr>\n",
              "      <th>457</th>\n",
              "      <td>133</td>\n",
              "      <td>Pan de higo con almendras De Juan</td>\n",
              "      <td>None</td>\n",
              "      <td>2.30</td>\n",
              "      <td>10</td>\n",
              "      <td>0.200</td>\n",
              "      <td>kg</td>\n",
              "      <td>False</td>\n",
              "    </tr>\n",
              "    <tr>\n",
              "      <th>707</th>\n",
              "      <td>92</td>\n",
              "      <td>Huevo de chocolate Hacendado</td>\n",
              "      <td>None</td>\n",
              "      <td>1.40</td>\n",
              "      <td>10</td>\n",
              "      <td>0.050</td>\n",
              "      <td>kg</td>\n",
              "      <td>False</td>\n",
              "    </tr>\n",
              "    <tr>\n",
              "      <th>708</th>\n",
              "      <td>92</td>\n",
              "      <td>Huevo crema al cacao</td>\n",
              "      <td>None</td>\n",
              "      <td>1.25</td>\n",
              "      <td>10</td>\n",
              "      <td>0.025</td>\n",
              "      <td>kg</td>\n",
              "      <td>False</td>\n",
              "    </tr>\n",
              "    <tr>\n",
              "      <th>791</th>\n",
              "      <td>216</td>\n",
              "      <td>Papilla fresa y plátano +8 meses Hacendado</td>\n",
              "      <td>None</td>\n",
              "      <td>0.90</td>\n",
              "      <td>10</td>\n",
              "      <td>0.120</td>\n",
              "      <td>kg</td>\n",
              "      <td>False</td>\n",
              "    </tr>\n",
              "    <tr>\n",
              "      <th>792</th>\n",
              "      <td>216</td>\n",
              "      <td>Papilla fruta variada +6 meses Hacendado</td>\n",
              "      <td>None</td>\n",
              "      <td>0.90</td>\n",
              "      <td>10</td>\n",
              "      <td>0.120</td>\n",
              "      <td>kg</td>\n",
              "      <td>False</td>\n",
              "    </tr>\n",
              "    <tr>\n",
              "      <th>...</th>\n",
              "      <td>...</td>\n",
              "      <td>...</td>\n",
              "      <td>...</td>\n",
              "      <td>...</td>\n",
              "      <td>...</td>\n",
              "      <td>...</td>\n",
              "      <td>...</td>\n",
              "      <td>...</td>\n",
              "    </tr>\n",
              "    <tr>\n",
              "      <th>3913</th>\n",
              "      <td>66</td>\n",
              "      <td>Palmera crema de avellana Hacendado</td>\n",
              "      <td>None</td>\n",
              "      <td>0.53</td>\n",
              "      <td>10</td>\n",
              "      <td>0.105</td>\n",
              "      <td>kg</td>\n",
              "      <td>False</td>\n",
              "    </tr>\n",
              "    <tr>\n",
              "      <th>3914</th>\n",
              "      <td>66</td>\n",
              "      <td>Caña de cacao Hacendado</td>\n",
              "      <td>None</td>\n",
              "      <td>0.50</td>\n",
              "      <td>10</td>\n",
              "      <td>0.100</td>\n",
              "      <td>kg</td>\n",
              "      <td>False</td>\n",
              "    </tr>\n",
              "    <tr>\n",
              "      <th>3915</th>\n",
              "      <td>66</td>\n",
              "      <td>Pasta bañada Hacendado</td>\n",
              "      <td>None</td>\n",
              "      <td>0.14</td>\n",
              "      <td>10</td>\n",
              "      <td>0.027</td>\n",
              "      <td>kg</td>\n",
              "      <td>False</td>\n",
              "    </tr>\n",
              "    <tr>\n",
              "      <th>3916</th>\n",
              "      <td>66</td>\n",
              "      <td>Rollo con sabor nata Hacendado</td>\n",
              "      <td>None</td>\n",
              "      <td>0.21</td>\n",
              "      <td>10</td>\n",
              "      <td>0.042</td>\n",
              "      <td>kg</td>\n",
              "      <td>False</td>\n",
              "    </tr>\n",
              "    <tr>\n",
              "      <th>3917</th>\n",
              "      <td>66</td>\n",
              "      <td>Rollo con sabor avellana Hacendado</td>\n",
              "      <td>None</td>\n",
              "      <td>0.21</td>\n",
              "      <td>10</td>\n",
              "      <td>0.042</td>\n",
              "      <td>kg</td>\n",
              "      <td>False</td>\n",
              "    </tr>\n",
              "  </tbody>\n",
              "</table>\n",
              "<p>250 rows × 8 columns</p>\n",
              "</div>"
            ],
            "text/plain": [
              "       id                                        name packaging unit_price  \\\n",
              "457   133           Pan de higo con almendras De Juan      None       2.30   \n",
              "707    92                Huevo de chocolate Hacendado      None       1.40   \n",
              "708    92                        Huevo crema al cacao      None       1.25   \n",
              "791   216  Papilla fresa y plátano +8 meses Hacendado      None       0.90   \n",
              "792   216    Papilla fruta variada +6 meses Hacendado      None       0.90   \n",
              "...   ...                                         ...       ...        ...   \n",
              "3913   66         Palmera crema de avellana Hacendado      None       0.53   \n",
              "3914   66                     Caña de cacao Hacendado      None       0.50   \n",
              "3915   66                      Pasta bañada Hacendado      None       0.14   \n",
              "3916   66              Rollo con sabor nata Hacendado      None       0.21   \n",
              "3917   66          Rollo con sabor avellana Hacendado      None       0.21   \n",
              "\n",
              "      iva  unit_size size_format  price_decreased  \n",
              "457    10      0.200          kg            False  \n",
              "707    10      0.050          kg            False  \n",
              "708    10      0.025          kg            False  \n",
              "791    10      0.120          kg            False  \n",
              "792    10      0.120          kg            False  \n",
              "...   ...        ...         ...              ...  \n",
              "3913   10      0.105          kg            False  \n",
              "3914   10      0.100          kg            False  \n",
              "3915   10      0.027          kg            False  \n",
              "3916   10      0.042          kg            False  \n",
              "3917   10      0.042          kg            False  \n",
              "\n",
              "[250 rows x 8 columns]"
            ]
          },
          "execution_count": 33,
          "metadata": {},
          "output_type": "execute_result"
        }
      ],
      "source": [
        "df_md_prod[df_md_prod[\"packaging\"].isnull()]"
      ]
    },
    {
      "cell_type": "code",
      "execution_count": 34,
      "metadata": {},
      "outputs": [],
      "source": [
        "df_md_prod.to_csv(\"../data/dynamic/mercadona/products.csv\", index=False)"
      ]
    },
    {
      "cell_type": "code",
      "execution_count": 35,
      "metadata": {},
      "outputs": [],
      "source": [
        "df_mercadona_dyn = pd.merge(df_cat, df_md_prod, on=\"id\")\n",
        "df_mercadona_dyn.to_csv(\"../data/dynamic/mercadona/final_table.csv\")\n"
      ]
    }
  ],
  "metadata": {
    "colab": {
      "name": "1-Definicion_EDA.ipynb",
      "provenance": []
    },
    "interpreter": {
      "hash": "7c77fdb427e7cbc9bc1367dd530fc2b36aacdbbde1ac83c85833b10dfa8b831c"
    },
    "kernelspec": {
      "display_name": "Python 3.7.4 64-bit",
      "language": "python",
      "name": "python3"
    },
    "language_info": {
      "codemirror_mode": {
        "name": "ipython",
        "version": 3
      },
      "file_extension": ".py",
      "mimetype": "text/x-python",
      "name": "python",
      "nbconvert_exporter": "python",
      "pygments_lexer": "ipython3",
      "version": "3.7.9"
    },
    "orig_nbformat": 4
  },
  "nbformat": 4,
  "nbformat_minor": 0
}
